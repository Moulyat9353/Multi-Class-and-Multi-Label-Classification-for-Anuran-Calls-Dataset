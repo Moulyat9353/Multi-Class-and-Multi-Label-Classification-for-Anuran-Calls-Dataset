{
  "cells": [
    {
      "cell_type": "code",
      "execution_count": null,
      "metadata": {
        "id": "2OOVNEwmm1Y0"
      },
      "outputs": [],
      "source": [
        "import pandas as pd\n",
        "import numpy as np\n",
        "from sklearn.model_selection import train_test_split\n",
        "from sklearn.svm import SVC\n",
        "from sklearn import svm\n",
        "from sklearn.svm import SVC\n",
        "from sklearn.svm import LinearSVC\n",
        "from sklearn.model_selection import KFold\n",
        "from sklearn.model_selection import GridSearchCV\n",
        "from sklearn.model_selection import cross_val_score\n",
        "from sklearn.metrics import hamming_loss,accuracy_score\n",
        "import matplotlib.pyplot as plt\n",
        "from imblearn.over_sampling import SMOTE"
      ]
    },
    {
      "cell_type": "code",
      "execution_count": null,
      "metadata": {
        "id": "JrekQk0HoL8v"
      },
      "outputs": [],
      "source": [
        "import warnings\n",
        "warnings.filterwarnings('ignore')"
      ]
    },
    {
      "cell_type": "code",
      "execution_count": null,
      "metadata": {
        "colab": {
          "base_uri": "https://localhost:8080/"
        },
        "id": "dlNtmsIGoS3q",
        "outputId": "b4496b9b-89e0-4a0b-eadc-3ae556483ed2"
      },
      "outputs": [
        {
          "output_type": "stream",
          "name": "stdout",
          "text": [
            "size of data set (7195, 26)\n",
            "size of x_train (5036, 22)\n",
            "size of x_test (2159, 22)\n",
            "size of y_train (5036, 3)\n",
            "size of y_test (2159, 3)\n"
          ]
        }
      ],
      "source": [
        "df=pd.read_csv('/content/drive/MyDrive/Frogs_MFCCs.csv')\n",
        "x,y=df.iloc[:,:22],df.iloc[:,22:-1]\n",
        "x_train,x_test,y_train,y_test=train_test_split(x,y,test_size=0.3,random_state=42)\n",
        "#print(df.shape)\n",
        "#print(x_test)\n",
        "print(\"size of data set\",df.shape)\n",
        "print(\"size of x_train\",x_train.shape)\n",
        "print(\"size of x_test\",x_test.shape)\n",
        "print(\"size of y_train\",y_train.shape)\n",
        "print(\"size of y_test\",y_test.shape)"
      ]
    },
    {
      "cell_type": "markdown",
      "source": [
        "Accuracy score/ Exact match metric:calculates subset accuracy meaning the predicted set of labels should exactly match with the true set of labels. I can use function:metrics.accuracy_score(y_true, y_pred) to find the accuracy classification score.\n",
        "Hamming loss: The fraction of the wrong labels to the total number of labels. I can use metrics.hamming_loss(y_true, y_pred) to compute the average Hamming loss."
      ],
      "metadata": {
        "id": "3HG5C30_rVax"
      }
    },
    {
      "cell_type": "code",
      "execution_count": null,
      "metadata": {
        "colab": {
          "base_uri": "https://localhost:8080/"
        },
        "id": "rr2AaHu5o4EJ",
        "outputId": "aa28598e-0e59-4eac-cbd9-dcc94f55f0a7"
      },
      "outputs": [
        {
          "output_type": "stream",
          "name": "stdout",
          "text": [
            "the acc when C=10^(-3),lamda=-3 0.6102065131056394\n",
            "the acc when C=10^(3),lamda=3 1.0\n"
          ]
        }
      ],
      "source": [
        "y_train_family, y_train_genus, y_train_species=y_train[\"Family\"], y_train[\"Genus\"], y_train[\"Species\"]\n",
        "y_test_family, y_test_genus, y_test_species=y_test[\"Family\"], y_test[\"Genus\"], y_test[\"Species\"]\n",
        "\n",
        "svm=SVC(kernel='rbf',C=10**(-3)).fit(x_train,y_train_family)\n",
        "c=svm.score(x_train,y_train_family)\n",
        "print(\"the acc when C=10^(-3),lamda=-3\",c)\n",
        "svm=SVC(kernel='rbf',C=10**3).fit(x_train,y_train_family)\n",
        "c_1=svm.score(x_train,y_train_family)\n",
        "print(\"the acc when C=10^(3),lamda=3\",c_1)"
      ]
    },
    {
      "cell_type": "markdown",
      "source": [
        "Choose lamda=[-3,3] i.e.C=[10^-3,10^3] to ensure the acc will not below 0.6102065131056394"
      ],
      "metadata": {
        "id": "iagYR8l7ri1g"
      }
    },
    {
      "cell_type": "code",
      "execution_count": null,
      "metadata": {
        "id": "AoPs1H1xo9Qt"
      },
      "outputs": [],
      "source": [
        "def SvmModel(x_train,y_train_label):\n",
        "    param = {'C':np.logspace(-3,3,7),'gamma':np.linspace(.1,2,10)}\n",
        "    svm=SVC(kernel='rbf')\n",
        "    svm_param=GridSearchCV(svm,param,cv=10)\n",
        "    svm_param.fit(x_train,y_train_label)\n",
        "    c=svm_param.best_params_['C']\n",
        "    gamma=svm_param.best_params_['gamma']\n",
        "    score=svm_param.best_score_\n",
        "    return c, gamma, score"
      ]
    },
    {
      "cell_type": "code",
      "execution_count": null,
      "metadata": {
        "colab": {
          "base_uri": "https://localhost:8080/"
        },
        "id": "qd97xPzdo_Bq",
        "outputId": "49c0e030-17d0-46c4-9fa5-6a3a74faadfb"
      },
      "outputs": [
        {
          "output_type": "stream",
          "name": "stdout",
          "text": [
            "----------paramater of Family----------\n",
            "C_family= 10.0 gamma_family= 2.0 score_family= 0.9934480419072864\n",
            "----------paramater of Genus----------\n",
            "C_genus= 100.0 gamma_genus= 1.577777777777778 score_genus= 0.990864337782827\n",
            "----------paramater of Species----------\n",
            "C_species= 10.0 gamma_species= 1.788888888888889 score_species= 0.9904675123860013\n"
          ]
        }
      ],
      "source": [
        "y_train_family, y_train_genus, y_train_species=y_train[\"Family\"], y_train[\"Genus\"], y_train[\"Species\"]\n",
        "y_test_family, y_test_genus, y_test_species=y_test[\"Family\"], y_test[\"Genus\"], y_test[\"Species\"]\n",
        "\n",
        "c_family,gamma_family,score_family=SvmModel(x_train,y_train_family)\n",
        "print(\"----------paramater of Family----------\")\n",
        "print(\"C_family=\",c_family,\"gamma_family=\",gamma_family,\"score_family=\",score_family)\n",
        "#print(\"scorescore_family)\n",
        "c_genus,gamma_genus,score_genus=SvmModel(x_train,y_train_genus)\n",
        "print(\"----------paramater of Genus----------\")\n",
        "print(\"C_genus=\",c_genus,\"gamma_genus=\",gamma_genus,\"score_genus=\", score_genus)\n",
        "c_species,gamma_species,score_species=SvmModel(x_train,y_train_species)\n",
        "print(\"----------paramater of Species----------\")\n",
        "print(\"C_species=\",c_species,\"gamma_species=\",gamma_species,\"score_species=\", score_species)"
      ]
    },
    {
      "cell_type": "code",
      "execution_count": null,
      "metadata": {
        "colab": {
          "base_uri": "https://localhost:8080/"
        },
        "id": "ft9M1X9vpBIp",
        "outputId": "8c47de57-2697-4068-c243-f280cb173bdb"
      },
      "outputs": [
        {
          "output_type": "stream",
          "name": "stdout",
          "text": [
            "----------Family---------\n",
            "hamming loss of Family: 0.006021306160259379\n",
            "exact match of Family: 0.9939786938397406\n",
            "----------Genus---------\n",
            "hamming loss of genus: 0.009263547938860583\n",
            "exact match of Genus: 0.9907364520611394\n",
            "----------Species---------\n",
            "hamming loss of species: 0.009726725335803613\n",
            "exact match of species: 0.9902732746641963\n"
          ]
        }
      ],
      "source": [
        "from sklearn.metrics import hamming_loss,accuracy_score\n",
        "\n",
        "svm_family=SVC(kernel='rbf',C=c_family,gamma=gamma_family).fit(x_train,y_train_family)\n",
        "y_predict_family=pd.Series(svm_family.predict(x_test))\n",
        "hamming_loss_family =hamming_loss(y_predict_family, y_test_family)\n",
        "exact_match_family= accuracy_score(y_test_family, y_predict_family)\n",
        "print(\"----------Family---------\")\n",
        "print(\"hamming loss of Family:\",hamming_loss_family)\n",
        "print(\"exact match of Family:\",exact_match_family)\n",
        "\n",
        "svm_genus=SVC(kernel='rbf',C=c_genus,gamma=gamma_genus).fit(x_train,y_train_genus)\n",
        "y_predict_genus=pd.Series(svm_genus.predict(x_test))\n",
        "hamming_loss_genus =hamming_loss(y_predict_genus, y_test_genus)\n",
        "exact_match_genus= accuracy_score(y_test_genus, y_predict_genus)\n",
        "print(\"----------Genus---------\")\n",
        "print(\"hamming loss of genus:\",hamming_loss_genus)\n",
        "print(\"exact match of Genus:\",exact_match_genus)\n",
        "\n",
        "svm_species=SVC(kernel='rbf',C=c_species,gamma=gamma_species).fit(x_train,y_train_species)\n",
        "y_predict_species=pd.Series(svm_species.predict(x_test))\n",
        "hamming_loss_species =hamming_loss(y_predict_species, y_test_species)\n",
        "exact_match_species= accuracy_score(y_test_species, y_predict_species)\n",
        "print(\"----------Species---------\")\n",
        "print(\"hamming loss of species:\",hamming_loss_species)\n",
        "print(\"exact match of species:\",exact_match_species)"
      ]
    },
    {
      "cell_type": "code",
      "execution_count": null,
      "metadata": {
        "id": "NFqmzDBbpDe8"
      },
      "outputs": [],
      "source": [
        "from sklearn.svm import LinearSVC\n",
        "def Svm_L1(x_train,y_train_label):\n",
        "    param = {'C':np.logspace(-3,3,7)}\n",
        "    svm=LinearSVC(penalty='l1', dual=False,random_state=42)\n",
        "    svm_param=GridSearchCV(svm,param,cv=10)\n",
        "    svm_param.fit(x_train,y_train_label)\n",
        "    c=svm_param.best_params_['C']\n",
        "    score=svm_param.best_score_\n",
        "    return c, score"
      ]
    },
    {
      "cell_type": "code",
      "execution_count": null,
      "metadata": {
        "colab": {
          "base_uri": "https://localhost:8080/"
        },
        "id": "zDZlA85spFir",
        "outputId": "aeb1cb97-2d33-454d-aa88-8c12aa89fb4b"
      },
      "outputs": [
        {
          "output_type": "stream",
          "name": "stdout",
          "text": [
            "----------paramater of Family----------\n",
            "C_family= 100.0 score_family= 0.9408280475874911\n",
            "----------paramater of Genus----------\n",
            "C_genus= 100.0 score_genus= 0.9507565716810248\n",
            "----------paramater of Species----------\n",
            "C_species= 10.0 score_species= 0.959092666224873\n"
          ]
        }
      ],
      "source": [
        "c_family,score_family=Svm_L1(x_train,y_train_family)\n",
        "print(\"----------paramater of Family----------\")\n",
        "print(\"C_family=\",c_family,\"score_family=\",score_family)\n",
        "#print(\"scorescore_family)\n",
        "c_genus,score_genus=Svm_L1(x_train,y_train_genus)\n",
        "print(\"----------paramater of Genus----------\")\n",
        "print(\"C_genus=\",c_genus,\"score_genus=\", score_genus)\n",
        "c_species,score_species=Svm_L1(x_train,y_train_species)\n",
        "print(\"----------paramater of Species----------\")\n",
        "print(\"C_species=\",c_species,\"score_species=\", score_species)"
      ]
    },
    {
      "cell_type": "code",
      "execution_count": null,
      "metadata": {
        "colab": {
          "base_uri": "https://localhost:8080/"
        },
        "id": "PWUw4wfwpHq_",
        "outputId": "959edf5d-cb08-4161-c47b-b81b5a98f14a"
      },
      "outputs": [
        {
          "output_type": "stream",
          "name": "stdout",
          "text": [
            "----------Family---------\n",
            "hamming loss of Family: 0.07364520611394164\n",
            "exact match of Family: 0.9263547938860583\n",
            "----------Genus---------\n",
            "hamming loss of genus: 0.059286706808707734\n",
            "exact match of Genus: 0.9407132931912923\n",
            "----------Species---------\n",
            "hamming loss of species: 0.03844372394627142\n",
            "exact match of species: 0.9615562760537286\n"
          ]
        }
      ],
      "source": [
        "svm_family=LinearSVC(penalty='l1', dual=False,C=c_family).fit(x_train,y_train_family)\n",
        "y_predict_family=pd.Series(svm_family.predict(x_test))\n",
        "hamming_loss_family =hamming_loss(y_predict_family, y_test_family)\n",
        "exact_match_family= accuracy_score(y_test_family, y_predict_family)\n",
        "print(\"----------Family---------\")\n",
        "print(\"hamming loss of Family:\",hamming_loss_family)\n",
        "print(\"exact match of Family:\",exact_match_family)\n",
        "\n",
        "svm_genus=LinearSVC(penalty='l1', dual=False,C=c_genus).fit(x_train,y_train_genus)\n",
        "y_predict_genus=pd.Series(svm_genus.predict(x_test))\n",
        "hamming_loss_genus =hamming_loss(y_predict_genus, y_test_genus)\n",
        "exact_match_genus= accuracy_score(y_test_genus, y_predict_genus)\n",
        "print(\"----------Genus---------\")\n",
        "print(\"hamming loss of genus:\",hamming_loss_genus)\n",
        "print(\"exact match of Genus:\",exact_match_genus)\n",
        "\n",
        "svm_species=LinearSVC(penalty='l1', dual=False,C=c_species).fit(x_train,y_train_species)\n",
        "y_predict_species=pd.Series(svm_species.predict(x_test))\n",
        "hamming_loss_species =hamming_loss(y_predict_species, y_test_species)\n",
        "exact_match_species= accuracy_score(y_test_species, y_predict_species)\n",
        "print(\"----------Species---------\")\n",
        "print(\"hamming loss of species:\",hamming_loss_species)\n",
        "print(\"exact match of species:\",exact_match_species)"
      ]
    },
    {
      "cell_type": "code",
      "execution_count": null,
      "metadata": {
        "id": "ihYJSdiVpJfs"
      },
      "outputs": [],
      "source": [
        "def Svm_Resample(x_train,y_train_label):\n",
        "    smo = SMOTE(random_state=42)\n",
        "    x_smo, y_smo = smo.fit_resample(x_train, y_train_label)\n",
        "    param = {'C':np.logspace(-3,3,7)}\n",
        "    svm=LinearSVC(penalty='l1', dual=False,random_state=42)\n",
        "    svm_param=GridSearchCV(svm,param,cv=10)\n",
        "    svm_param.fit(x_smo, y_smo)\n",
        "    c=svm_param.best_params_['C']\n",
        "    score=svm_param.best_score_\n",
        "    return c, score"
      ]
    },
    {
      "cell_type": "code",
      "execution_count": null,
      "metadata": {
        "colab": {
          "base_uri": "https://localhost:8080/"
        },
        "id": "YttGK6YPpLVa",
        "outputId": "08fb9b4a-b5c3-4548-c11f-e54781c88cf3"
      },
      "outputs": [
        {
          "output_type": "stream",
          "name": "stdout",
          "text": [
            "----------paramater of Family----------\n",
            "C_family= 10.0 score_family= 0.9503747511030847\n",
            "----------paramater of Genus----------\n",
            "C_genus= 100.0 score_genus= 0.9571408789460379\n",
            "----------paramater of Species----------\n",
            "C_species= 100.0 score_species= 0.961749080506743\n"
          ]
        }
      ],
      "source": [
        "y_train_family, y_train_genus, y_train_species=y_train[\"Family\"], y_train[\"Genus\"], y_train[\"Species\"]\n",
        "y_test_family, y_test_genus, y_test_species=y_test[\"Family\"], y_test[\"Genus\"], y_test[\"Species\"]\n",
        "\n",
        "c_family,score_family=Svm_Resample(x_train,y_train_family)\n",
        "print(\"----------paramater of Family----------\")\n",
        "print(\"C_family=\",c_family,\"score_family=\",score_family)\n",
        "#print(\"scorescore_family)\n",
        "c_genus,score_genus=Svm_Resample(x_train,y_train_genus)\n",
        "print(\"----------paramater of Genus----------\")\n",
        "print(\"C_genus=\",c_genus,\"score_genus=\", score_genus)\n",
        "c_species,score_species=Svm_Resample(x_train,y_train_species)\n",
        "print(\"----------paramater of Species----------\")\n",
        "print(\"C_species=\",c_species,\"score_species=\", score_species)"
      ]
    },
    {
      "cell_type": "code",
      "execution_count": null,
      "metadata": {
        "id": "KhMpViqSpNl3",
        "colab": {
          "base_uri": "https://localhost:8080/"
        },
        "outputId": "0877563c-e78f-48bb-9ac8-fc05cd047846"
      },
      "outputs": [
        {
          "output_type": "stream",
          "name": "stdout",
          "text": [
            "----------Family---------\n",
            "hamming loss of Family: 0.09078276980083372\n",
            "exact match of Family: 0.9092172301991662\n",
            "----------Genus---------\n",
            "hamming loss of genus: 0.09402501157943492\n",
            "exact match of Genus: 0.9059749884205651\n",
            "----------Species---------\n",
            "hamming loss of species: 0.03890690134321445\n",
            "exact match of species: 0.9610930986567855\n"
          ]
        }
      ],
      "source": [
        "from sklearn.metrics import hamming_loss,accuracy_score\n",
        "\n",
        "smo_f = SMOTE(random_state=42)\n",
        "x_smo_f, y_smo_f = smo_f.fit_resample(x_train, y_train_family)\n",
        "svm_family=LinearSVC(penalty='l1', dual=False,C=c_family).fit(x_smo_f,y_smo_f)\n",
        "y_predict_family=pd.Series(svm_family.predict(x_test))\n",
        "hamming_loss_family =hamming_loss(y_predict_family, y_test_family)\n",
        "exact_match_family= accuracy_score(y_test_family, y_predict_family)\n",
        "print(\"----------Family---------\")\n",
        "print(\"hamming loss of Family:\",hamming_loss_family)\n",
        "print(\"exact match of Family:\",exact_match_family)\n",
        "\n",
        "smo_g = SMOTE(random_state=42)\n",
        "x_smo_g, y_smo_g = smo_g.fit_resample(x_train, y_train_genus)\n",
        "svm_genus=LinearSVC(penalty='l1', dual=False,C=c_genus).fit(x_smo_g,y_smo_g)\n",
        "y_predict_genus=pd.Series(svm_genus.predict(x_test))\n",
        "hamming_loss_genus =hamming_loss(y_predict_genus, y_test_genus)\n",
        "exact_match_genus= accuracy_score(y_test_genus, y_predict_genus)\n",
        "print(\"----------Genus---------\")\n",
        "print(\"hamming loss of genus:\",hamming_loss_genus)\n",
        "print(\"exact match of Genus:\",exact_match_genus)\n",
        "\n",
        "smo_s = SMOTE(random_state=42)\n",
        "x_smo_s, y_smo_s = smo_s.fit_resample(x_train, y_train_species)\n",
        "svm_species=LinearSVC(penalty='l1', dual=False,C=c_species).fit(x_smo_s,y_smo_s)\n",
        "y_predict_species=pd.Series(svm_species.predict(x_test))\n",
        "hamming_loss_species =hamming_loss(y_predict_species, y_test_species)\n",
        "exact_match_species= accuracy_score(y_test_species, y_predict_species)\n",
        "print(\"----------Species---------\")\n",
        "print(\"hamming loss of species:\",hamming_loss_species)\n",
        "print(\"exact match of species:\",exact_match_species)"
      ]
    },
    {
      "cell_type": "markdown",
      "source": [
        "CONCLUSION:\n",
        "\n",
        "Gaussian SVM:\n",
        "Hamming loss of Family: 0.006021306160259379;exact match of Family: 0.9939786938397406\n",
        "Hamming loss of genus: 0.009263547938860583;exact match of Genus: 0.9907364520611394\n",
        "Hamming loss of species: 0.009726725335803613;exact match of species: 0.9902732746641963\n",
        "\n",
        "L1-penalized SVMs\n",
        "amming loss of Family: 0.07364520611394164;exact match of Family: 0.9263547938860583\n",
        "hamming loss of genus: 0.05974988420565076;exact match of Genus: 0.9402501157943493\n",
        "hamming loss of species: 0.03844372394627142;exact match of species: 0.9615562760537286\n",
        "\n",
        "Using SMOTE\n",
        "hamming loss of Family: 0.09078276980083372;exact match of Family: 0.9092172301991662\n",
        "hamming loss of genus: 0.09402501157943492;exact match of Genus: 0.9059749884205651\n",
        "hamming loss of species: 0.03890690134321445;exact match of species: 0.9610930986567855\n",
        "\n",
        "From above, the Gaussian SVM performs the best!"
      ],
      "metadata": {
        "id": "Y9d67Ou2sF3L"
      }
    }
  ],
  "metadata": {
    "colab": {
      "provenance": []
    },
    "kernelspec": {
      "display_name": "Python 3",
      "name": "python3"
    },
    "language_info": {
      "name": "python"
    }
  },
  "nbformat": 4,
  "nbformat_minor": 0
}